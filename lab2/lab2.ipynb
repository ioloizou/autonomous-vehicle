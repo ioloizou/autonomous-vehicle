{
 "cells": [
  {
   "cell_type": "markdown",
   "metadata": {},
   "source": [
    "# Lab 2 : Overview\n",
    "\n",
    "Upon completing this lab, you should have a good understanding of the fundamentals of using OpenStreetmap maps and developing local planners for Autonomous Vehicles, along with practical experience in designing, implementing, and testing local planners in a simulated environment. This hands-on experience will prepare you for further study or work in the field of autonomous vehicles."
   ]
  },
  {
   "cell_type": "code",
   "execution_count": 39,
   "metadata": {},
   "outputs": [],
   "source": [
    "# useful imports\n",
    "import matplotlib.pyplot as plt\n",
    "from osmnx_utils import *\n",
    "import osmnx  as ox   \n",
    "import networkx as nx"
   ]
  },
  {
   "cell_type": "markdown",
   "metadata": {},
   "source": [
    "# Task n° 1 : Load and visualize OSM Maps\n",
    "- This task involves loading an OpenStreetMap (OSM) map for a specified location using the osmnx library.\n",
    "- It also visualizes the OSM graph, nodes, and edges for the given location \n",
    "\n",
    "First, you'll need to find a location of interest in an osm map: https://www.openstreetmap.org"
   ]
  },
  {
   "cell_type": "code",
   "execution_count": 40,
   "metadata": {},
   "outputs": [],
   "source": [
    "def create_config():\n",
    "   # Place you are interested : \n",
    "    location = (47.2489965, -1.5473425) # Nantes, Ecole Centrale\n",
    "    mode = \"drive\"\n",
    "    ox.config(log_console=False, use_cache=True)\n",
    "\n",
    "    G_osmnx = ox.graph_from_point(location, dist=500, simplify=False, network_type=mode )\n",
    "    return(G_osmnx)\n",
    "\n",
    "G_osmnx = create_config() # This may take a while the first time\n",
    "\n",
    "# TODO : Plot the graph and nodes according to the osmnx documentation\n",
    "# TIP : You can use the function osmnx.plot.plot_graph()"
   ]
  },
  {
   "cell_type": "code",
   "execution_count": 41,
   "metadata": {},
   "outputs": [],
   "source": [
    "# Arbitrary origin and destination\n",
    "origin = (round(-1.5562600,6), round(47.2467100,6))\n",
    "destination = (round(-1.5428700,6), round(47.2533500,6))\n",
    "origin_node = ox.nearest_nodes(G_osmnx, origin[0], origin[1])\n",
    "destination_node = ox.nearest_nodes(G_osmnx, destination[0], destination[1])\n",
    "\n",
    "# TODO: find the path from origin to destination, using nx library\n",
    "\n",
    "\n",
    "# TODO: plot the path on the graph\n",
    "# TIP : use the function ox.plot_graph_route()\n",
    "path = np.array([origin_node, destination_node])\n",
    "\n"
   ]
  },
  {
   "cell_type": "code",
   "execution_count": 42,
   "metadata": {},
   "outputs": [
    {
     "data": {
      "image/png": "[encoded data removed]",
      "text/plain": [
       "<Figure size 432x288 with 1 Axes>"
      ]
     },
     "metadata": {
      "needs_background": "light"
     },
     "output_type": "display_data"
    }
   ],
   "source": [
    "nodes_proj, edges_proj = ox.graph_to_gdfs(G_osmnx, nodes=True, edges=True)\n",
    "\n",
    "# TODO: convert to local coordinates\n",
    "wpts = gdfs_to_local(nodes_proj, path)\n",
    "plt.plot(wpts[:,0], wpts[:,1], 'o-')\n",
    "plt.axis(\"equal\")\n",
    "plt.show()"
   ]
  },
  {
   "cell_type": "markdown",
   "metadata": {},
   "source": [
    "# Task 2: Implement a Global Planner\n",
    "- In this task, you load a pre-existing road network graph (Town 01 Road Network) and actor positions.\n",
    "- You also create a custom A* algorithm and heuristic function to find a path from the ego vehicle's current position to a specified target"
   ]
  },
  {
   "cell_type": "code",
   "execution_count": 43,
   "metadata": {},
   "outputs": [],
   "source": [
    "import pickle"
   ]
  },
  {
   "cell_type": "code",
   "execution_count": 44,
   "metadata": {},
   "outputs": [],
   "source": [
    "nodes =  pickle.load(open('/home/user/ECN_AUVE_labs/lab2_data/Town01_nodes.pickle', 'rb'))\n",
    "edges =  pickle.load(open('/home/user/ECN_AUVE_labs/lab2_data/Town01_edges.pickle', 'rb'))\n",
    "\n",
    "G = nx.DiGraph()\n",
    "G.add_nodes_from(nodes)\n",
    "G.add_edges_from(edges)\n",
    "node_positions = {waypoint[0]: (waypoint[1][\"vertex\"][0], waypoint[1][\"vertex\"][1]) for waypoint in G.nodes.data()}\n",
    "\n",
    "# Draw the graph via networkx and matplotlib\n"
   ]
  },
  {
   "cell_type": "code",
   "execution_count": 45,
   "metadata": {},
   "outputs": [],
   "source": [
    "from utils import get_actor_T_world\n",
    "\n",
    "actors = [\"ego_vehicle\" ,\"other_vehicle\",   \"ego_vehicle_behind\",\"other_vehicle_behind\"]\n",
    "N_frames = 100 \n"
   ]
  },
  {
   "cell_type": "code",
   "execution_count": 46,
   "metadata": {},
   "outputs": [],
   "source": [
    "# Define a custom A* algorithm TODO: implement the algorithm\n",
    "def custom_a_star(graph, start, end, heuristic_func):\n",
    "    open_set = {start}\n",
    "    came_from = {}\n",
    "    g_score = {node: float('inf') for node in graph.nodes}\n",
    "    g_score[start] = 0\n",
    "    f_score = {node: float('inf') for node in graph.nodes}\n",
    "    f_score[start] = heuristic_func(start, end)\n",
    "\n",
    "    while open_set:\n",
    "        current = min(open_set, key=lambda node: f_score[node])\n",
    "        if current == end:\n",
    "            path = []\n",
    "            while current in came_from:\n",
    "                path.append(current)\n",
    "                current = came_from[current]\n",
    "            path.append(start)\n",
    "            path.reverse()\n",
    "            return path\n",
    "\n",
    "        open_set.remove(current)\n",
    "        for neighbor in graph.neighbors(current):\n",
    "            tentative_g_score =  g_score[current] + graph[current][neighbor]['length']\n",
    "            if tentative_g_score < g_score[neighbor]:\n",
    "                # TODO: update came_from\n",
    "                \n",
    "                # TODO: update g_score and f_score\n",
    "                g_score[neighbor] = 0\n",
    "                f_score[neighbor] =  0\n",
    "\n",
    "                # TODO: add neighbor to open_set if not already in\n",
    "\n",
    "\n",
    "    return [start, end]\n",
    "\n",
    "# Define a custom heuristic function (e.g., Euclidean distance)\n",
    "def custom_heuristic(node, end):\n",
    "    return 0\n",
    "    "
   ]
  },
  {
   "cell_type": "code",
   "execution_count": 47,
   "metadata": {},
   "outputs": [],
   "source": [
    "# find closest node to ego vehicle\n",
    "ego_vehicle = \"ego_vehicle\"\n",
    "ego_vehicle_pos = get_actor_T_world(ego_vehicle, 0)\n",
    "ego_vehicle_pos = ego_vehicle_pos[:2,-1]\n",
    "\n",
    "def closest_node(G, pos):\n",
    "    closest_node = min(G.nodes, key=lambda node: ((pos[0] - G.nodes[node]['vertex'][0]) ** 2 + (pos[1] - G.nodes[node]['vertex'][1]) ** 2) ** 0.5)\n",
    "    return closest_node\n",
    "\n",
    "origin = closest_node(G, ego_vehicle_pos)\n",
    "end = 47\n",
    "path = custom_a_star(G, origin, end, custom_heuristic)\n",
    "\n",
    "\n",
    "path_edges = [(path[i], path[i + 1]) for i in range(len(path) - 1)]\n",
    "\n",
    "# Draw the graph and the path on top of the graph\n",
    "# TIP : You can use the nx function draw_network_edges() "
   ]
  },
  {
   "cell_type": "markdown",
   "metadata": {},
   "source": [
    "# Task 3: Implement a Local Planner - DWA Approach\n",
    "- This task implements the Dynamic Window Approach (DWA) for local planning. It defines various parameters such as maximum velocity, acceleration, and rotation.\n",
    "- It simulates the DWA algorithm to generate a trajectory that minimizes a cost function. The trajectory is then plotted."
   ]
  },
  {
   "cell_type": "code",
   "execution_count": 48,
   "metadata": {},
   "outputs": [],
   "source": [
    "# Constants\n",
    "MAX_VELOCITY = 13.0  # Maximum linear velocity (m/s)\n",
    "MAX_ACCELERATION = 0.2  # Maximum linear acceleration (m/s^2)\n",
    "MAX_ROTATION = 2.0  # Maximum rotational velocity (rad/s)\n",
    "\n",
    "\n",
    "# DWA parameters\n",
    "NUM_THETA = 11  # Number of angular velocity samples\n",
    "NUM_V = 11  # Number of linear velocity samples\n",
    "DT = 0.1  # Time step for simulation\n",
    "\n",
    "# Function to calculate a cost for a given trajectory\n",
    "def calculate_cost(trajectory, target, obstacles):\n",
    "    # Implement your cost function here, considering factors like minimizing distance to target and maximizing speed norm.\n",
    "    dist_cost = 0\n",
    "    speed_cost = 0\n",
    "    return dist_cost + speed_cost\n",
    "\n",
    "# Evolution model \n",
    "def evolve(current_state, v, w):\n",
    "    x, y, theta = current_state\n",
    "    \n",
    "    # TODO: Implement the evolution model here\n",
    "\n",
    "    return np.array([x, y, theta])\n",
    "\n",
    "# DWA algorithm\n",
    "def dynamic_window_approach(current_state, target, obstacles):\n",
    "    best_trajectory = None\n",
    "    best_commands = None\n",
    "    min_cost = float('inf')\n",
    "\n",
    "    for v in np.linspace(4.0, MAX_VELOCITY, NUM_V):\n",
    "        v = -v # Convention sign for the velocity in the dataset\n",
    "        for w in np.linspace(-MAX_ROTATION, MAX_ROTATION, NUM_THETA):\n",
    "            # Simulate the trajectory\n",
    "            trajectory = [np.array(current_state)]\n",
    "            for _ in range(10):  # Simulate for 1 second with evolution model\n",
    "                trajectory.append(evolve(trajectory[-1], v, w))\n",
    "\n",
    "            # Calculate the cost of the trajectory\n",
    "            cost = calculate_cost(trajectory, target, obstacles)\n",
    "\n",
    "            # TODO :Update the best trajectory here\n",
    "\n",
    "\n",
    "    return best_trajectory, best_commands"
   ]
  },
  {
   "cell_type": "code",
   "execution_count": 49,
   "metadata": {},
   "outputs": [
    {
     "data": {
      "image/png": "[encoded data removed]",
      "text/plain": [
       "<Figure size 432x288 with 1 Axes>"
      ]
     },
     "metadata": {},
     "output_type": "display_data"
    }
   ],
   "source": [
    "# Example usage\n",
    "current_state = np.concatenate((ego_vehicle_pos,np.array(np.pi/2).reshape(1,))) # Initial state (x, y, theta)\n",
    "\n",
    "obstacles = []  # List of obstacle positions, none for now\n",
    "\n",
    "# Visualize the graph\n",
    "nx.draw(G, node_positions,node_size=10)\n",
    "nx.draw_networkx_edges(G, node_positions, edgelist=path_edges, edge_color='r', width=2)\n",
    "\n",
    "\n",
    "path_loop = [G.nodes[path[i+1]][\"vertex\"] for i in range(len(path)-1)] # Loop over the global path\n",
    "next_waypoint = path_loop.pop(0)\n",
    "i=0\n",
    "while path_loop and i<100:\n",
    "    if np.linalg.norm(current_state - np.array(next_waypoint)) < 5.0:\n",
    "        next_waypoint = path_loop.pop(0)\n",
    "        \n",
    "    resulting_trajectory, cmds = dynamic_window_approach(current_state, np.array(next_waypoint), obstacles)\n",
    "    \n",
    "    # Move along the trajectory (simulated)\n",
    "    for state in resulting_trajectory:\n",
    "        current_state = state\n",
    "        plt.plot(current_state[0], current_state[1], 'ro', alpha=0.5)\n",
    "\n",
    "    current_state = resulting_trajectory[1]\n",
    "    plt.plot(current_state[0], current_state[1], 'bo')\n",
    "    i+=1\n",
    "\n",
    "plt.xlim(200,400)\n",
    "plt.ylim(-50,50)\n",
    "\n",
    "\n",
    "# TODO: Plot the trajectory of the ego vehicle and the other vehicle\n",
    "for n_frame in range(N_frames):\n",
    "    T_ego = get_actor_T_world(ego_vehicle, n_frame)\n",
    "    plt.scatter([],[], color = 'r')\n",
    "    T_actor = get_actor_T_world(\"other_vehicle\", n_frame)\n",
    "    plt.scatter([],[], color = 'g')\n",
    "\n",
    "plt.show()"
   ]
  },
  {
   "cell_type": "markdown",
   "metadata": {},
   "source": [
    "# Task 4: Implement a DWA Approach with Obstacle Avoidance\n",
    "- This task extends the DWA approach to include obstacle avoidance. Obstacle positions (both static and dynamic) are considered when calculating the cost of a trajectory.\n",
    "- The code predicts the future positions of dynamic obstacles.\n",
    "- It then simulates the DWA approach while avoiding both static and dynamic obstacles."
   ]
  },
  {
   "cell_type": "code",
   "execution_count": 50,
   "metadata": {},
   "outputs": [],
   "source": [
    "ROBOT_RADIUS = 3 # Robot radius (m)\n",
    "OBS_RADIUS = 3  # Radius of obstacles (m)\n",
    "\n",
    "# Function to calculate a cost for a given trajectory considering proximity to obstacles\n",
    "def calculate_cost(trajectory, target, obstacles, dynamic_obstacles):\n",
    "    dist_cost = np.linalg.norm(trajectory[-1][:2] - target[:2])\n",
    "    speed_cost = 0\n",
    "    cost = dist_cost + speed_cost\n",
    "    # Add a penalty for proximity to static obstacles\n",
    "    for obs in obstacles:\n",
    "        distances = np.linalg.norm(trajectory[-1][:2] - np.array(obs))\n",
    "        min_distance = ROBOT_RADIUS + OBS_RADIUS\n",
    "        cost += max(0, min_distance - distances)\n",
    "\n",
    "    # Add a penalty for proximity to dynamic obstacles\n",
    "    for obs in dynamic_obstacles:\n",
    "        obs_trajectory = predict_dynamic_obstacles(obs, len(trajectory))\n",
    "        plt.plot(obs_trajectory[1][0], obs_trajectory[1][1], 'ro')\n",
    "        for i in range(len(trajectory)):\n",
    "            distance = np.linalg.norm(trajectory[i][:2] - obs_trajectory[i])\n",
    "            if distance < ROBOT_RADIUS + OBS_RADIUS:\n",
    "                cost += (ROBOT_RADIUS + OBS_RADIUS - distance)\n",
    "\n",
    "    return cost\n",
    "\n",
    "# Function to predict future positions of dynamic obstacles\n",
    "def predict_dynamic_obstacles(dynamic_obstacle, num_steps):\n",
    "    x,y,v_x, v_y = dynamic_obstacle\n",
    "    positions = []\n",
    "\n",
    "    # TODO: Implement the prediction of future positions of dynamic obstacles\n",
    "    \n",
    "    return positions\n",
    "\n",
    "# DWA algorithm with dynamic obstacle avoidance and proximity to obstacles\n",
    "def dynamic_window_approach_avoidance(current_state, target, obstacles, dynamic_obstacles):\n",
    "    best_trajectory = None\n",
    "    min_cost = float('inf')\n",
    "\n",
    "    # Predict future positions of dynamic obstacles\n",
    "    num_prediction_steps = 10\n",
    "\n",
    "    for v in np.linspace(0, MAX_VELOCITY, NUM_V):\n",
    "        v = -v # Convention sign for the velocity in the dataset\n",
    "        for w in np.linspace(-MAX_ROTATION, MAX_ROTATION, NUM_THETA):\n",
    "            # Simulate the trajectory\n",
    "            trajectory = [np.array(current_state)]\n",
    "            for _ in range(num_prediction_steps):  # Simulate for predicted time\n",
    "                x, y, theta = trajectory[-1]\n",
    "                trajectory.append(evolve(trajectory[-1], v, w))\n",
    "\n",
    "            # Calculate the cost of the trajectory\n",
    "            cost = calculate_cost(trajectory, target, obstacles, dynamic_obstacles)\n",
    "\n",
    "            # TODO :Update the best trajectory here\n",
    "\n",
    "    return best_trajectory"
   ]
  },
  {
   "cell_type": "code",
   "execution_count": 51,
   "metadata": {},
   "outputs": [
    {
     "data": {
      "image/png": "[encoded data removed]",
      "text/plain": [
       "<Figure size 432x288 with 1 Axes>"
      ]
     },
     "metadata": {},
     "output_type": "display_data"
    },
    {
     "name": "stdout",
     "output_type": "stream",
     "text": [
      "Reached the pose: [338.87765808  35.86503545   1.57079633]\n",
      "Distance to target: 294.61510606942244 meters\n"
     ]
    }
   ],
   "source": [
    "# Example usage\n",
    "current_state = np.concatenate((ego_vehicle_pos,np.array(np.pi/2).reshape(1,))) # Initial state (x, y, theta)\n",
    "\n",
    "obstacles = []  # List of obstacle positions\n",
    "\n",
    "# Draw the graph with nodes and path edges\n",
    "nx.draw(G, node_positions,node_size=10)\n",
    "nx.draw_networkx_edges(G, node_positions, edgelist=path_edges, edge_color='r', width=2)\n",
    "\n",
    "path_loop = [G.nodes[path[i+1]][\"vertex\"] for i in range(len(path)-1)]\n",
    "next_waypoint = path_loop.pop(0)\n",
    "\n",
    "# get the position of the other vehicle\n",
    "x,y  = get_actor_T_world('other_vehicle', 0)[:2,-1]\n",
    "# here we assume that the other vehicle is moving with a constant longitudinal velocity and no lateral velocity\n",
    "dynamic_obstacles = [(x,y,13.8,0.0)]\n",
    "\n",
    "\n",
    "i=0\n",
    "while path_loop and i<100:\n",
    "    # Check if the current state is close to the next waypoint and update the next waypoint\n",
    "    if np.linalg.norm(current_state - np.array(next_waypoint)) < 5.0:\n",
    "        next_waypoint = path_loop.pop(0)\n",
    "\n",
    "    # Compute the trajectory using dynamic window approach and avoidance\n",
    "    resulting_trajectory  = dynamic_window_approach_avoidance(current_state, np.array(next_waypoint), obstacles, dynamic_obstacles)\n",
    "\n",
    "    # Move along the trajectory (simulated) and plot the trajectory\n",
    "    current_state = resulting_trajectory[1]\n",
    "    i+=1\n",
    "    plt.plot(current_state[0], current_state[1], 'bo')\n",
    "\n",
    "# Set the limits of the plot\n",
    "plt.xlim(200,400)\n",
    "plt.ylim(-50,50)\n",
    "plt.show()\n",
    "\n",
    "print(\"Reached the pose:\", current_state)\n",
    "print(\"Distance to target:\", np.linalg.norm(current_state - np.array(next_waypoint)), \"meters\")"
   ]
  }
 ],
 "metadata": {
  "kernelspec": {
   "display_name": "Python 3",
   "language": "python",
   "name": "python3"
  },
  "language_info": {
   "codemirror_mode": {
    "name": "ipython",
    "version": 3
   },
   "file_extension": ".py",
   "mimetype": "text/x-python",
   "name": "python",
   "nbconvert_exporter": "python",
   "pygments_lexer": "ipython3",
   "version": "3.8.13"
  }
 },
 "nbformat": 4,
 "nbformat_minor": 2
}
