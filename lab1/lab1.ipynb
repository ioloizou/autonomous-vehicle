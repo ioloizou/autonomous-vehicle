{
 "cells": [
  {
   "cell_type": "code",
   "execution_count": 7,
   "metadata": {},
   "outputs": [],
   "source": [
    "import sys\n",
    "sys.path.insert(0, 'visualization.py')\n",
    "sys.path.insert(0, 'utils.py')"
   ]
  },
  {
   "cell_type": "code",
   "execution_count": 8,
   "metadata": {},
   "outputs": [],
   "source": [
    "# /!\\ Before running the lab make sure every additional libraries is installed \n",
    "\n",
    "# Import local libraries\n",
    "from visualization import *\n",
    "from utils import *\n"
   ]
  },
  {
   "cell_type": "markdown",
   "metadata": {},
   "source": [
    "# Task n°1\n"
   ]
  },
  {
   "cell_type": "markdown",
   "metadata": {},
   "source": [
    "This exercise is about showing measurements made by the Intelligent Road-Side Unit (IRSU) positioned at the center of the intersection:\n",
    "- 1 point clouds collected by a 32-channel LiDAR"
   ]
  },
  {
   "cell_type": "markdown",
   "metadata": {},
   "source": [
    "The functions you need to modify are located in:\n",
    "-  box_to_corner -> visualization.py\n",
    "\n",
    "-  get_boxes_in_actor_frame -> utils.py"
   ]
  },
  {
   "cell_type": "code",
   "execution_count": 9,
   "metadata": {},
   "outputs": [],
   "source": [
    "# n_frame = 30\n",
    "# actor = 'ego_vehicle'\n",
    "\n",
    "# irsu_points = get_point_cloud(n_frame, actor)\n",
    "# irsu_boxes = get_boxes_in_actor_frame(n_frame, actor)\n",
    "# print(irsu_boxes.shape)\n",
    "# box_colors = CLASS_COLORS[irsu_boxes[:, -1].astype(np.int32)]\n",
    "\n",
    "\n",
    "# show_objects(irsu_points[:,:3], irsu_boxes[:,:7], box_colors)"
   ]
  },
  {
   "cell_type": "markdown",
   "metadata": {},
   "source": [
    "# Task n°2"
   ]
  },
  {
   "cell_type": "markdown",
   "metadata": {},
   "source": [
    "This exercise demonstrates how the field of view and perception range of a vehicle can be enhanced by receiving data from other vehicles and the IRSU."
   ]
  },
  {
   "cell_type": "markdown",
   "metadata": {},
   "source": [
    "The functions you need to modify are:\n",
    "-  box_to_corner (already done in task 1) -> visualization.py\n",
    "-  get_available_point_clouds, get_available_boxes_in_ego_frame, get_boxes_in_actor_frame(already done in task 1) -> utils.py"
   ]
  },
  {
   "cell_type": "code",
   "execution_count": 10,
   "metadata": {},
   "outputs": [],
   "source": [
    "# n_frame = 20\n",
    "# actors = [\"ego_vehicle\" ,\"other_vehicle\",   \"ego_vehicle_behind\",\"other_vehicle_behind\" ,\"infrastructure\",]#\n",
    "\n",
    "# merged_points = get_available_point_clouds(n_frame, actors)\n",
    "# irsu_boxes = get_available_boxes_in_ego_frame(n_frame, actors)\n",
    "# box_colors = CLASS_COLORS[irsu_boxes[:, -1].astype(np.int32)]\n",
    "\n",
    "# show_objects(merged_points, irsu_boxes[:,:7], box_colors)"
   ]
  },
  {
   "cell_type": "markdown",
   "metadata": {},
   "source": [
    "# Task n°3"
   ]
  },
  {
   "cell_type": "markdown",
   "metadata": {},
   "source": [
    "Build a BEV occupancy grid of the environment"
   ]
  },
  {
   "cell_type": "markdown",
   "metadata": {},
   "source": [
    "A main challenge in perception on point clouds is their unordered nature which hinders the application of the Convolution operation, thus preventing the use of many wonders in the world of image-based perception. An effective way to get around this challenge is to convert point clouds to BEV images. In other word, to look at a point cloud from the top-view which is what you are going to do in this exercise."
   ]
  },
  {
   "cell_type": "markdown",
   "metadata": {},
   "source": [
    "The functions you need to modify are :\n",
    "-  box_to_pixels, points_to_pixels-> visualization.py\n",
    "-  filter_points -> utils.py"
   ]
  },
  {
   "cell_type": "code",
   "execution_count": 11,
   "metadata": {},
   "outputs": [
    {
     "name": "stdout",
     "output_type": "stream",
     "text": [
      "(51, 4, 2)\n",
      "[[[-38.77999865 -20.80650939]\n",
      "  [-34.59878861 -20.8063251 ]\n",
      "  [-34.5988765  -18.81220785]\n",
      "  [-38.78008654 -18.81239213]]\n",
      "\n",
      " [[-16.91572549  -1.96764381]\n",
      "  [-12.4094905   -0.72798816]\n",
      "  [-12.89006329   1.01892752]\n",
      "  [-17.39629827  -0.22072812]]]\n"
     ]
    },
    {
     "data": {
      "text/plain": [
       "<matplotlib.image.AxesImage at 0x7fa8d21db6a0>"
      ]
     },
     "execution_count": 11,
     "metadata": {},
     "output_type": "execute_result"
    },
    {
     "data": {
      "image/png": "[encoded data removed]",
      "text/plain": [
       "<Figure size 640x480 with 1 Axes>"
      ]
     },
     "metadata": {},
     "output_type": "display_data"
    }
   ],
   "source": [
    "\n",
    "n_frame = 0\n",
    "actors = [\"ego_vehicle\" ,\"other_vehicle\",   \"ego_vehicle_behind\",\"other_vehicle_behind\",\"infrastructure\",]\n",
    "merged_points = get_available_point_clouds(n_frame, actors)\n",
    "irsu_boxes = get_available_boxes_in_ego_frame(n_frame, actors)\n",
    "box_colors = CLASS_COLORS[irsu_boxes[:, -1].astype(np.int32)]\n",
    "\n",
    "# ------------------ Get Waypoints that belongs to the ground floor ------------------\n",
    "points_range = np.array([-50, -50, -25, 50, 50, 0.01])  # xmin, ymin, zmin, xmax, ymax, zmax (meters) around ego_vehicle\n",
    "\n",
    "filtered_points = filter_points(merged_points, points_range)\n",
    "show_objects(filtered_points, irsu_boxes[:,:7], box_colors)\n",
    "\n",
    "# ------------------  Build BEV image  ------------------  \n",
    "bev_resolution = 0.1 # meters / pixel\n",
    "bev_imsize = np.ceil((points_range[3: 5] - points_range[:2]) / bev_resolution).astype(int)  # (width, height)\n",
    "bev_occupancy = np.zeros((bev_imsize[1], bev_imsize[0]))\n",
    "\n",
    "# ------------------  Project bbox of actors on the image  ------------------  \n",
    "box_mask = box_to_pixels(irsu_boxes[:,:7], bev_imsize, bev_resolution)\n",
    "bev_occupancy[box_mask > 0] = 255\n",
    "\n",
    "# ------------------  Project navigable space on the image ------------------  \n",
    "navigable_space = points_to_pixels(filtered_points, bev_imsize, bev_resolution)\n",
    "\n",
    "for pixel in navigable_space:\n",
    "    bev_occupancy[pixel[1], pixel[0]] = 150\n",
    "\n",
    "\n",
    "plt.imshow(bev_occupancy)\n"
   ]
  },
  {
   "cell_type": "markdown",
   "metadata": {},
   "source": [
    "# Task n°4: \n",
    "Segment points according to object's class"
   ]
  },
  {
   "cell_type": "code",
   "execution_count": 12,
   "metadata": {},
   "outputs": [],
   "source": [
    "# Each detection is attached with one class label, use it to filter out the detections of interest (e.g. vehicles, pedestrians, etc.)"
   ]
  }
 ],
 "metadata": {
  "kernelspec": {
   "display_name": "Python 3",
   "language": "python",
   "name": "python3"
  },
  "language_info": {
   "codemirror_mode": {
    "name": "ipython",
    "version": 3
   },
   "file_extension": ".py",
   "mimetype": "text/x-python",
   "name": "python",
   "nbconvert_exporter": "python",
   "pygments_lexer": "ipython3",
   "version": "3.8.10"
  }
 },
 "nbformat": 4,
 "nbformat_minor": 2
}
